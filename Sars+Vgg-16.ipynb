{
  "nbformat": 4,
  "nbformat_minor": 0,
  "metadata": {
    "colab": {
      "name": "Untitled15.ipynb",
      "provenance": []
    },
    "kernelspec": {
      "name": "python3",
      "display_name": "Python 3"
    },
    "language_info": {
      "name": "python"
    },
    "accelerator": "GPU"
  },
  "cells": [
    {
      "cell_type": "code",
      "metadata": {
        "colab": {
          "base_uri": "https://localhost:8080/"
        },
        "id": "jMwBdliH7MhA",
        "outputId": "90a33ef4-bcf6-4f80-c1e3-36131ae672b0"
      },
      "source": [
        "!pip install kaggle"
      ],
      "execution_count": 2,
      "outputs": [
        {
          "output_type": "stream",
          "name": "stdout",
          "text": [
            "Requirement already satisfied: kaggle in /usr/local/lib/python3.7/dist-packages (1.5.12)\n",
            "Requirement already satisfied: python-slugify in /usr/local/lib/python3.7/dist-packages (from kaggle) (5.0.2)\n",
            "Requirement already satisfied: requests in /usr/local/lib/python3.7/dist-packages (from kaggle) (2.23.0)\n",
            "Requirement already satisfied: tqdm in /usr/local/lib/python3.7/dist-packages (from kaggle) (4.62.0)\n",
            "Requirement already satisfied: urllib3 in /usr/local/lib/python3.7/dist-packages (from kaggle) (1.24.3)\n",
            "Requirement already satisfied: six>=1.10 in /usr/local/lib/python3.7/dist-packages (from kaggle) (1.15.0)\n",
            "Requirement already satisfied: python-dateutil in /usr/local/lib/python3.7/dist-packages (from kaggle) (2.8.2)\n",
            "Requirement already satisfied: certifi in /usr/local/lib/python3.7/dist-packages (from kaggle) (2021.5.30)\n",
            "Requirement already satisfied: text-unidecode>=1.3 in /usr/local/lib/python3.7/dist-packages (from python-slugify->kaggle) (1.3)\n",
            "Requirement already satisfied: chardet<4,>=3.0.2 in /usr/local/lib/python3.7/dist-packages (from requests->kaggle) (3.0.4)\n",
            "Requirement already satisfied: idna<3,>=2.5 in /usr/local/lib/python3.7/dist-packages (from requests->kaggle) (2.10)\n"
          ]
        }
      ]
    },
    {
      "cell_type": "code",
      "metadata": {
        "colab": {
          "resources": {
            "http://localhost:8080/nbextensions/google.colab/files.js": {
              "data": "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",
              "ok": true,
              "headers": [
                [
                  "content-type",
                  "application/javascript"
                ]
              ],
              "status": 200,
              "status_text": "OK"
            }
          },
          "base_uri": "https://localhost:8080/",
          "height": 93
        },
        "id": "uEo7eoaIBtVA",
        "outputId": "0054be35-7542-4374-d33f-7a898eba98c6"
      },
      "source": [
        "from google.colab import files\n",
        "files.upload()"
      ],
      "execution_count": 3,
      "outputs": [
        {
          "output_type": "display_data",
          "data": {
            "text/html": [
              "\n",
              "     <input type=\"file\" id=\"files-3c7a7ed2-9122-41a1-bbd0-4e42661f10ac\" name=\"files[]\" multiple disabled\n",
              "        style=\"border:none\" />\n",
              "     <output id=\"result-3c7a7ed2-9122-41a1-bbd0-4e42661f10ac\">\n",
              "      Upload widget is only available when the cell has been executed in the\n",
              "      current browser session. Please rerun this cell to enable.\n",
              "      </output>\n",
              "      <script src=\"/nbextensions/google.colab/files.js\"></script> "
            ],
            "text/plain": [
              "<IPython.core.display.HTML object>"
            ]
          },
          "metadata": {}
        },
        {
          "output_type": "stream",
          "name": "stdout",
          "text": [
            "Saving kaggle.json to kaggle.json\n"
          ]
        },
        {
          "output_type": "execute_result",
          "data": {
            "text/plain": [
              "{'kaggle.json': b'{\"username\":\"ebrahimrabea\",\"key\":\"73017daedf81670e5665686932ddb482\"}'}"
            ]
          },
          "metadata": {},
          "execution_count": 3
        }
      ]
    },
    {
      "cell_type": "code",
      "metadata": {
        "id": "O4HbMONtBzeF"
      },
      "source": [
        "!mkdir ~/.kaggle\n",
        "!cp /content/kaggle.json ~/.kaggle/kaggle.json"
      ],
      "execution_count": 4,
      "outputs": []
    },
    {
      "cell_type": "code",
      "metadata": {
        "colab": {
          "base_uri": "https://localhost:8080/"
        },
        "id": "2vMAW_gEB-N-",
        "outputId": "2a01440f-94b2-4ef0-9ec3-df67071709e9"
      },
      "source": [
        "!kaggle datasets download -d plameneduardo/sarscov2-ctscan-dataset"
      ],
      "execution_count": 5,
      "outputs": [
        {
          "output_type": "stream",
          "name": "stdout",
          "text": [
            "Warning: Your Kaggle API key is readable by other users on this system! To fix this, you can run 'chmod 600 /root/.kaggle/kaggle.json'\n",
            "Downloading sarscov2-ctscan-dataset.zip to /content\n",
            " 99% 229M/230M [00:01<00:00, 148MB/s]\n",
            "100% 230M/230M [00:01<00:00, 146MB/s]\n"
          ]
        }
      ]
    },
    {
      "cell_type": "code",
      "metadata": {
        "colab": {
          "base_uri": "https://localhost:8080/"
        },
        "id": "8hhJPNt5CGgq",
        "outputId": "1cf10381-615b-45af-8049-58def6330929"
      },
      "source": [
        "from zipfile import ZipFile\n",
        "file_name = \"sarscov2-ctscan-dataset.zip\"\n",
        "with ZipFile(file_name , 'r')as zip:\n",
        "  zip.extractall()\n",
        "  print('done')"
      ],
      "execution_count": 6,
      "outputs": [
        {
          "output_type": "stream",
          "name": "stdout",
          "text": [
            "done\n"
          ]
        }
      ]
    },
    {
      "cell_type": "markdown",
      "metadata": {
        "id": "tAlZXH-4AsJG"
      },
      "source": [
        ""
      ]
    },
    {
      "cell_type": "code",
      "metadata": {
        "id": "gK5cZS0UCW_r"
      },
      "source": [
        " input_folder = \"/content/Dataset\"\n",
        "output = \"/content\"\n"
      ],
      "execution_count": 7,
      "outputs": []
    },
    {
      "cell_type": "code",
      "metadata": {
        "colab": {
          "base_uri": "https://localhost:8080/"
        },
        "id": "QeHmU6u9b15L",
        "outputId": "14cf2281-4391-48e1-f978-5d8f15a1642d"
      },
      "source": [
        "!pip install split-folders\n",
        "import splitfolders as sf\n",
        "input_folder = \"/content/Dataset\"\n",
        "output = \"/content\"\n",
        "#where you want the split datasets saved. one will be created if none is set\n",
        "\n",
        "sf.ratio(input_folder, output=\"output\", seed=42, ratio=(.8, .0,.2))\n",
        "#train ,val,test\n"
      ],
      "execution_count": 8,
      "outputs": [
        {
          "output_type": "stream",
          "name": "stdout",
          "text": [
            "Collecting split-folders\n",
            "  Downloading split_folders-0.4.3-py3-none-any.whl (7.4 kB)\n",
            "Installing collected packages: split-folders\n",
            "Successfully installed split-folders-0.4.3\n"
          ]
        },
        {
          "output_type": "stream",
          "name": "stderr",
          "text": [
            "Copying files: 2481 files [00:01, 2465.74 files/s]\n"
          ]
        }
      ]
    },
    {
      "cell_type": "code",
      "metadata": {
        "id": "1VlIas2mpTLC"
      },
      "source": [
        "import matplotlib.pyplot as plt\n",
        "import matplotlib.image as img\n",
        "import tensorflow.keras as keras\n",
        "import numpy as np\n",
        "import pandas as pd\n",
        "import keras,os\n",
        "from keras.models import*\n",
        "from keras.layers import*\n",
        "from keras import optimizers \n",
        "from keras.preprocessing.image import ImageDataGenerator\n",
        "import numpy as np\n",
        "import pandas as pd\n",
        "import PIL\n"
      ],
      "execution_count": 27,
      "outputs": []
    },
    {
      "cell_type": "code",
      "metadata": {
        "colab": {
          "base_uri": "https://localhost:8080/"
        },
        "id": "yqXdUKiJqJm6",
        "outputId": "d36c4695-bb5e-4918-a632-9dac1686d792"
      },
      "source": [
        "from keras.preprocessing.image import ImageDataGenerator\n",
        "\n",
        "train_d = ImageDataGenerator()\n",
        "traindata = train_d.flow_from_directory(directory =\"/content/output/train\",target_size=(224,224))\n",
        "\n",
        "test_d = ImageDataGenerator()\n",
        "testdata = test_d.flow_from_directory(directory=\"/content/output/test\",target_size=(224,224))"
      ],
      "execution_count": 10,
      "outputs": [
        {
          "output_type": "stream",
          "name": "stdout",
          "text": [
            "Found 1984 images belonging to 2 classes.\n",
            "Found 497 images belonging to 2 classes.\n"
          ]
        }
      ]
    },
    {
      "cell_type": "code",
      "metadata": {
        "id": "JQK13hiItmcZ"
      },
      "source": [
        "model = Sequential()\n",
        "\n",
        "model.add(Conv2D(filters=64,kernel_size=(3,3),padding=\"same\", activation=\"relu\",input_shape=(224,224,3)))\n",
        "model.add(Conv2D(filters=64,kernel_size=(3,3),padding=\"same\", activation=\"relu\"))\n",
        "model.add(MaxPool2D(pool_size=(2,2),strides=(2,2)))\n",
        "\n",
        "model.add(Conv2D(filters=128, kernel_size=(3,3), padding=\"same\", activation=\"relu\"))\n",
        "model.add(Conv2D(filters=128, kernel_size=(3,3), padding=\"same\", activation=\"relu\"))\n",
        "model.add(MaxPool2D(pool_size=(2,2),strides=(2,2)))\n",
        "model.add(Conv2D(filters=512, kernel_size=(3,3), padding=\"same\", activation=\"relu\"))\n",
        "model.add(Conv2D(filters=512, kernel_size=(3,3), padding=\"same\", activation=\"relu\"))\n",
        "model.add(Conv2D(filters=512, kernel_size=(3,3), padding=\"same\", activation=\"relu\"))\n",
        "model.add(MaxPool2D(pool_size=(2,2),strides=(2,2)))\n",
        "\n",
        "model.add(Conv2D(filters=512, kernel_size=(3,3), padding=\"same\", activation=\"relu\"))\n",
        "model.add(Conv2D(filters=512, kernel_size=(3,3), padding=\"same\", activation=\"relu\"))\n",
        "model.add(Conv2D(filters=512, kernel_size=(3,3), padding=\"same\", activation=\"relu\"))\n",
        "model.add(MaxPool2D(pool_size=(2,2),strides=(2,2)))\n",
        "\n",
        "model.add(Flatten())\n",
        "\n",
        "model.add(Dense(units=4096,activation=\"relu\"))\n",
        "model.add(Dense(units=4096,activation=\"relu\"))\n",
        "model.add(Dense(units=2,activation=\"sigmoid\"))"
      ],
      "execution_count": 11,
      "outputs": []
    },
    {
      "cell_type": "code",
      "metadata": {
        "id": "jcCcskXOtrHC"
      },
      "source": [
        "model.compile(loss='binary_crossentropy', optimizer='adam', metrics=['accuracy'])"
      ],
      "execution_count": 25,
      "outputs": []
    },
    {
      "cell_type": "code",
      "metadata": {
        "colab": {
          "base_uri": "https://localhost:8080/"
        },
        "id": "h6XysPylAlLN",
        "outputId": "88ff0c76-b3ff-4a9b-d5a5-a7c1a2c8f555"
      },
      "source": [
        "model.summary()"
      ],
      "execution_count": 26,
      "outputs": [
        {
          "output_type": "stream",
          "name": "stdout",
          "text": [
            "Model: \"sequential\"\n",
            "_________________________________________________________________\n",
            "Layer (type)                 Output Shape              Param #   \n",
            "=================================================================\n",
            "conv2d (Conv2D)              (None, 224, 224, 64)      1792      \n",
            "_________________________________________________________________\n",
            "conv2d_1 (Conv2D)            (None, 224, 224, 64)      36928     \n",
            "_________________________________________________________________\n",
            "max_pooling2d (MaxPooling2D) (None, 112, 112, 64)      0         \n",
            "_________________________________________________________________\n",
            "conv2d_2 (Conv2D)            (None, 112, 112, 128)     73856     \n",
            "_________________________________________________________________\n",
            "conv2d_3 (Conv2D)            (None, 112, 112, 128)     147584    \n",
            "_________________________________________________________________\n",
            "max_pooling2d_1 (MaxPooling2 (None, 56, 56, 128)       0         \n",
            "_________________________________________________________________\n",
            "conv2d_4 (Conv2D)            (None, 56, 56, 512)       590336    \n",
            "_________________________________________________________________\n",
            "conv2d_5 (Conv2D)            (None, 56, 56, 512)       2359808   \n",
            "_________________________________________________________________\n",
            "conv2d_6 (Conv2D)            (None, 56, 56, 512)       2359808   \n",
            "_________________________________________________________________\n",
            "max_pooling2d_2 (MaxPooling2 (None, 28, 28, 512)       0         \n",
            "_________________________________________________________________\n",
            "conv2d_7 (Conv2D)            (None, 28, 28, 512)       2359808   \n",
            "_________________________________________________________________\n",
            "conv2d_8 (Conv2D)            (None, 28, 28, 512)       2359808   \n",
            "_________________________________________________________________\n",
            "conv2d_9 (Conv2D)            (None, 28, 28, 512)       2359808   \n",
            "_________________________________________________________________\n",
            "max_pooling2d_3 (MaxPooling2 (None, 14, 14, 512)       0         \n",
            "_________________________________________________________________\n",
            "flatten (Flatten)            (None, 100352)            0         \n",
            "_________________________________________________________________\n",
            "dense (Dense)                (None, 4096)              411045888 \n",
            "_________________________________________________________________\n",
            "dense_1 (Dense)              (None, 4096)              16781312  \n",
            "_________________________________________________________________\n",
            "dense_2 (Dense)              (None, 2)                 8194      \n",
            "=================================================================\n",
            "Total params: 440,484,930\n",
            "Trainable params: 440,484,930\n",
            "Non-trainable params: 0\n",
            "_________________________________________________________________\n"
          ]
        }
      ]
    },
    {
      "cell_type": "code",
      "metadata": {
        "colab": {
          "base_uri": "https://localhost:8080/"
        },
        "id": "qC5TQSC38W7d",
        "outputId": "9b45fdce-f2e4-463a-8094-6427259c32eb"
      },
      "source": [
        "model.fit_generator(traindata,\n",
        "                    steps_per_epoch = 3,\n",
        "                    epochs = 15,\n",
        "                    validation_data = testdata)"
      ],
      "execution_count": 20,
      "outputs": [
        {
          "output_type": "stream",
          "name": "stderr",
          "text": [
            "/usr/local/lib/python3.7/dist-packages/keras/engine/training.py:1972: UserWarning: `Model.fit_generator` is deprecated and will be removed in a future version. Please use `Model.fit`, which supports generators.\n",
            "  warnings.warn('`Model.fit_generator` is deprecated and '\n"
          ]
        },
        {
          "output_type": "stream",
          "name": "stdout",
          "text": [
            "Epoch 1/15\n",
            "3/3 [==============================] - 19s 8s/step - loss: 0.6938 - accuracy: 0.4688 - val_loss: 0.6931 - val_accuracy: 0.5050\n",
            "Epoch 2/15\n",
            "3/3 [==============================] - 9s 4s/step - loss: 0.6931 - accuracy: 0.5417 - val_loss: 0.6931 - val_accuracy: 0.5050\n",
            "Epoch 3/15\n",
            "3/3 [==============================] - 9s 4s/step - loss: 0.6933 - accuracy: 0.4479 - val_loss: 0.6932 - val_accuracy: 0.4950\n",
            "Epoch 4/15\n",
            "3/3 [==============================] - 9s 4s/step - loss: 0.6932 - accuracy: 0.4792 - val_loss: 0.6932 - val_accuracy: 0.4950\n",
            "Epoch 5/15\n",
            "3/3 [==============================] - 9s 4s/step - loss: 0.6932 - accuracy: 0.4896 - val_loss: 0.6932 - val_accuracy: 0.4950\n",
            "Epoch 6/15\n",
            "3/3 [==============================] - 9s 4s/step - loss: 0.6931 - accuracy: 0.5208 - val_loss: 0.6932 - val_accuracy: 0.4950\n",
            "Epoch 7/15\n",
            "3/3 [==============================] - 9s 4s/step - loss: 0.6930 - accuracy: 0.5938 - val_loss: 0.6932 - val_accuracy: 0.4950\n",
            "Epoch 8/15\n",
            "3/3 [==============================] - 9s 4s/step - loss: 0.6931 - accuracy: 0.5000 - val_loss: 0.6933 - val_accuracy: 0.4950\n",
            "Epoch 9/15\n",
            "3/3 [==============================] - 9s 4s/step - loss: 0.6925 - accuracy: 0.5417 - val_loss: 0.6933 - val_accuracy: 0.4950\n",
            "Epoch 10/15\n",
            "3/3 [==============================] - 9s 4s/step - loss: 0.6945 - accuracy: 0.4583 - val_loss: 0.6934 - val_accuracy: 0.4950\n",
            "Epoch 11/15\n",
            "3/3 [==============================] - 9s 4s/step - loss: 0.6938 - accuracy: 0.4792 - val_loss: 0.6933 - val_accuracy: 0.4950\n",
            "Epoch 12/15\n",
            "3/3 [==============================] - 9s 4s/step - loss: 0.6939 - accuracy: 0.4688 - val_loss: 0.6933 - val_accuracy: 0.4950\n",
            "Epoch 13/15\n",
            "3/3 [==============================] - 9s 4s/step - loss: 0.6917 - accuracy: 0.5833 - val_loss: 0.6933 - val_accuracy: 0.4950\n",
            "Epoch 14/15\n",
            "3/3 [==============================] - 9s 4s/step - loss: 0.6939 - accuracy: 0.4688 - val_loss: 0.6933 - val_accuracy: 0.4950\n",
            "Epoch 15/15\n",
            "3/3 [==============================] - 9s 4s/step - loss: 0.6924 - accuracy: 0.5417 - val_loss: 0.6933 - val_accuracy: 0.4950\n"
          ]
        },
        {
          "output_type": "execute_result",
          "data": {
            "text/plain": [
              "<keras.callbacks.History at 0x7feee0190390>"
            ]
          },
          "metadata": {},
          "execution_count": 20
        }
      ]
    },
    {
      "cell_type": "code",
      "metadata": {
        "colab": {
          "base_uri": "https://localhost:8080/"
        },
        "id": "SdPeu9zM9Mqm",
        "outputId": "8c90b65e-3c98-40da-b8c5-cd437dab8f80"
      },
      "source": [
        ""
      ],
      "execution_count": 21,
      "outputs": [
        {
          "output_type": "stream",
          "name": "stdout",
          "text": [
            "Model: \"sequential\"\n",
            "_________________________________________________________________\n",
            "Layer (type)                 Output Shape              Param #   \n",
            "=================================================================\n",
            "conv2d (Conv2D)              (None, 224, 224, 64)      1792      \n",
            "_________________________________________________________________\n",
            "conv2d_1 (Conv2D)            (None, 224, 224, 64)      36928     \n",
            "_________________________________________________________________\n",
            "max_pooling2d (MaxPooling2D) (None, 112, 112, 64)      0         \n",
            "_________________________________________________________________\n",
            "conv2d_2 (Conv2D)            (None, 112, 112, 128)     73856     \n",
            "_________________________________________________________________\n",
            "conv2d_3 (Conv2D)            (None, 112, 112, 128)     147584    \n",
            "_________________________________________________________________\n",
            "max_pooling2d_1 (MaxPooling2 (None, 56, 56, 128)       0         \n",
            "_________________________________________________________________\n",
            "conv2d_4 (Conv2D)            (None, 56, 56, 512)       590336    \n",
            "_________________________________________________________________\n",
            "conv2d_5 (Conv2D)            (None, 56, 56, 512)       2359808   \n",
            "_________________________________________________________________\n",
            "conv2d_6 (Conv2D)            (None, 56, 56, 512)       2359808   \n",
            "_________________________________________________________________\n",
            "max_pooling2d_2 (MaxPooling2 (None, 28, 28, 512)       0         \n",
            "_________________________________________________________________\n",
            "conv2d_7 (Conv2D)            (None, 28, 28, 512)       2359808   \n",
            "_________________________________________________________________\n",
            "conv2d_8 (Conv2D)            (None, 28, 28, 512)       2359808   \n",
            "_________________________________________________________________\n",
            "conv2d_9 (Conv2D)            (None, 28, 28, 512)       2359808   \n",
            "_________________________________________________________________\n",
            "max_pooling2d_3 (MaxPooling2 (None, 14, 14, 512)       0         \n",
            "_________________________________________________________________\n",
            "flatten (Flatten)            (None, 100352)            0         \n",
            "_________________________________________________________________\n",
            "dense (Dense)                (None, 4096)              411045888 \n",
            "_________________________________________________________________\n",
            "dense_1 (Dense)              (None, 4096)              16781312  \n",
            "_________________________________________________________________\n",
            "dense_2 (Dense)              (None, 2)                 8194      \n",
            "=================================================================\n",
            "Total params: 440,484,930\n",
            "Trainable params: 440,484,930\n",
            "Non-trainable params: 0\n",
            "_________________________________________________________________\n"
          ]
        }
      ]
    },
    {
      "cell_type": "code",
      "metadata": {
        "colab": {
          "base_uri": "https://localhost:8080/"
        },
        "id": "LoH1gTke2o0M",
        "outputId": "c67e5157-8684-42f2-a584-33cc0be8efa8"
      },
      "source": [
        "from keras.callbacks import ModelCheckpoint, EarlyStopping\n",
        "\n",
        "checkpoint = ModelCheckpoint(\"vgg16_1.h5\",\n",
        "                             monitor='val_accuracy',\n",
        "                             verbose=1,\n",
        "                             save_best_only=True,\n",
        "                             save_weights_only=False,\n",
        "                             mode=\"auto\",period=1)\n",
        "\n",
        "early = EarlyStopping(monitor='val_accuracy', min_delta=0, patience=15, verbose=1, mode=\"auto\")\n",
        "\n",
        "hist=model.fit_generator(steps_per_epoch=5,\n",
        "                         generator=traindata,\n",
        "                         validation_data=testdata,\n",
        "                         validation_steps=1,\n",
        "                         epochs=50,\n",
        "                         callbacks=[checkpoint,early])"
      ],
      "execution_count": 22,
      "outputs": [
        {
          "output_type": "stream",
          "name": "stdout",
          "text": [
            "WARNING:tensorflow:`period` argument is deprecated. Please use `save_freq` to specify the frequency in number of batches seen.\n"
          ]
        },
        {
          "output_type": "stream",
          "name": "stderr",
          "text": [
            "/usr/local/lib/python3.7/dist-packages/keras/engine/training.py:1972: UserWarning: `Model.fit_generator` is deprecated and will be removed in a future version. Please use `Model.fit`, which supports generators.\n",
            "  warnings.warn('`Model.fit_generator` is deprecated and '\n"
          ]
        },
        {
          "output_type": "stream",
          "name": "stdout",
          "text": [
            "Epoch 1/50\n",
            "5/5 [==============================] - 7s 1s/step - loss: 0.6936 - accuracy: 0.4812 - val_loss: 0.6914 - val_accuracy: 0.5938\n",
            "\n",
            "Epoch 00001: val_accuracy improved from -inf to 0.59375, saving model to vgg16_1.h5\n",
            "Epoch 2/50\n",
            "5/5 [==============================] - 7s 1s/step - loss: 0.6936 - accuracy: 0.4750 - val_loss: 0.6951 - val_accuracy: 0.3750\n",
            "\n",
            "Epoch 00002: val_accuracy did not improve from 0.59375\n",
            "Epoch 3/50\n",
            "5/5 [==============================] - 7s 1s/step - loss: 0.6933 - accuracy: 0.4938 - val_loss: 0.6923 - val_accuracy: 0.5625\n",
            "\n",
            "Epoch 00003: val_accuracy did not improve from 0.59375\n",
            "Epoch 4/50\n",
            "5/5 [==============================] - 7s 1s/step - loss: 0.6937 - accuracy: 0.4500 - val_loss: 0.6937 - val_accuracy: 0.4375\n",
            "\n",
            "Epoch 00004: val_accuracy did not improve from 0.59375\n",
            "Epoch 5/50\n",
            "5/5 [==============================] - 7s 1s/step - loss: 0.6932 - accuracy: 0.5000 - val_loss: 0.6929 - val_accuracy: 0.5938\n",
            "\n",
            "Epoch 00005: val_accuracy did not improve from 0.59375\n",
            "Epoch 6/50\n",
            "5/5 [==============================] - 6s 1s/step - loss: 0.6930 - accuracy: 0.5688 - val_loss: 0.6929 - val_accuracy: 0.5938\n",
            "\n",
            "Epoch 00006: val_accuracy did not improve from 0.59375\n",
            "Epoch 7/50\n",
            "5/5 [==============================] - 7s 1s/step - loss: 0.6933 - accuracy: 0.4250 - val_loss: 0.6931 - val_accuracy: 0.5312\n",
            "\n",
            "Epoch 00007: val_accuracy did not improve from 0.59375\n",
            "Epoch 8/50\n",
            "5/5 [==============================] - 6s 1s/step - loss: 0.6932 - accuracy: 0.4563 - val_loss: 0.6932 - val_accuracy: 0.4375\n",
            "\n",
            "Epoch 00008: val_accuracy did not improve from 0.59375\n",
            "Epoch 9/50\n",
            "5/5 [==============================] - 7s 1s/step - loss: 0.6932 - accuracy: 0.5312 - val_loss: 0.6928 - val_accuracy: 0.6562\n",
            "\n",
            "Epoch 00009: val_accuracy improved from 0.59375 to 0.65625, saving model to vgg16_1.h5\n",
            "Epoch 10/50\n",
            "5/5 [==============================] - 7s 1s/step - loss: 0.6930 - accuracy: 0.5688 - val_loss: 0.6930 - val_accuracy: 0.5312\n",
            "\n",
            "Epoch 00010: val_accuracy did not improve from 0.65625\n",
            "Epoch 11/50\n",
            "5/5 [==============================] - 7s 1s/step - loss: 0.6937 - accuracy: 0.4187 - val_loss: 0.6932 - val_accuracy: 0.5000\n",
            "\n",
            "Epoch 00011: val_accuracy did not improve from 0.65625\n",
            "Epoch 12/50\n",
            "5/5 [==============================] - 7s 1s/step - loss: 0.6931 - accuracy: 0.5063 - val_loss: 0.6929 - val_accuracy: 0.5625\n",
            "\n",
            "Epoch 00012: val_accuracy did not improve from 0.65625\n",
            "Epoch 13/50\n",
            "5/5 [==============================] - 7s 1s/step - loss: 0.6935 - accuracy: 0.3625 - val_loss: 0.6933 - val_accuracy: 0.3125\n",
            "\n",
            "Epoch 00013: val_accuracy did not improve from 0.65625\n",
            "Epoch 14/50\n",
            "5/5 [==============================] - 6s 1s/step - loss: 0.6932 - accuracy: 0.4812 - val_loss: 0.6933 - val_accuracy: 0.4688\n",
            "\n",
            "Epoch 00014: val_accuracy did not improve from 0.65625\n",
            "Epoch 15/50\n",
            "5/5 [==============================] - 7s 1s/step - loss: 0.6927 - accuracy: 0.5750 - val_loss: 0.6935 - val_accuracy: 0.4688\n",
            "\n",
            "Epoch 00015: val_accuracy did not improve from 0.65625\n",
            "Epoch 16/50\n",
            "5/5 [==============================] - 6s 1s/step - loss: 0.6933 - accuracy: 0.4875 - val_loss: 0.6927 - val_accuracy: 0.5312\n",
            "\n",
            "Epoch 00016: val_accuracy did not improve from 0.65625\n",
            "Epoch 17/50\n",
            "5/5 [==============================] - 6s 1s/step - loss: 0.6939 - accuracy: 0.4563 - val_loss: 0.6918 - val_accuracy: 0.5938\n",
            "\n",
            "Epoch 00017: val_accuracy did not improve from 0.65625\n",
            "Epoch 18/50\n",
            "5/5 [==============================] - 6s 1s/step - loss: 0.6936 - accuracy: 0.4688 - val_loss: 0.6917 - val_accuracy: 0.6250\n",
            "\n",
            "Epoch 00018: val_accuracy did not improve from 0.65625\n",
            "Epoch 19/50\n",
            "5/5 [==============================] - 7s 1s/step - loss: 0.6935 - accuracy: 0.4688 - val_loss: 0.6927 - val_accuracy: 0.5625\n",
            "\n",
            "Epoch 00019: val_accuracy did not improve from 0.65625\n",
            "Epoch 20/50\n",
            "5/5 [==============================] - 6s 1s/step - loss: 0.6936 - accuracy: 0.4250 - val_loss: 0.6928 - val_accuracy: 0.5938\n",
            "\n",
            "Epoch 00020: val_accuracy did not improve from 0.65625\n",
            "Epoch 21/50\n",
            "5/5 [==============================] - 7s 1s/step - loss: 0.6932 - accuracy: 0.4875 - val_loss: 0.6930 - val_accuracy: 0.6250\n",
            "\n",
            "Epoch 00021: val_accuracy did not improve from 0.65625\n",
            "Epoch 22/50\n",
            "5/5 [==============================] - 6s 1s/step - loss: 0.6930 - accuracy: 0.5500 - val_loss: 0.6935 - val_accuracy: 0.4375\n",
            "\n",
            "Epoch 00022: val_accuracy did not improve from 0.65625\n",
            "Epoch 23/50\n",
            "5/5 [==============================] - 6s 1s/step - loss: 0.6931 - accuracy: 0.5063 - val_loss: 0.6916 - val_accuracy: 0.6875\n",
            "\n",
            "Epoch 00023: val_accuracy improved from 0.65625 to 0.68750, saving model to vgg16_1.h5\n",
            "Epoch 24/50\n",
            "5/5 [==============================] - 7s 1s/step - loss: 0.6937 - accuracy: 0.4375 - val_loss: 0.6927 - val_accuracy: 0.5625\n",
            "\n",
            "Epoch 00024: val_accuracy did not improve from 0.68750\n",
            "Epoch 25/50\n",
            "5/5 [==============================] - 6s 1s/step - loss: 0.6933 - accuracy: 0.4812 - val_loss: 0.6936 - val_accuracy: 0.4375\n",
            "\n",
            "Epoch 00025: val_accuracy did not improve from 0.68750\n",
            "Epoch 26/50\n",
            "5/5 [==============================] - 7s 1s/step - loss: 0.6933 - accuracy: 0.4812 - val_loss: 0.6937 - val_accuracy: 0.3750\n",
            "\n",
            "Epoch 00026: val_accuracy did not improve from 0.68750\n",
            "Epoch 27/50\n",
            "5/5 [==============================] - 6s 1s/step - loss: 0.6929 - accuracy: 0.5562 - val_loss: 0.6930 - val_accuracy: 0.5312\n",
            "\n",
            "Epoch 00027: val_accuracy did not improve from 0.68750\n",
            "Epoch 28/50\n",
            "5/5 [==============================] - 6s 1s/step - loss: 0.6928 - accuracy: 0.5813 - val_loss: 0.6932 - val_accuracy: 0.5000\n",
            "\n",
            "Epoch 00028: val_accuracy did not improve from 0.68750\n",
            "Epoch 29/50\n",
            "5/5 [==============================] - 6s 1s/step - loss: 0.6933 - accuracy: 0.4875 - val_loss: 0.6940 - val_accuracy: 0.4062\n",
            "\n",
            "Epoch 00029: val_accuracy did not improve from 0.68750\n",
            "Epoch 30/50\n",
            "5/5 [==============================] - 6s 1s/step - loss: 0.6936 - accuracy: 0.4500 - val_loss: 0.6915 - val_accuracy: 0.6875\n",
            "\n",
            "Epoch 00030: val_accuracy did not improve from 0.68750\n",
            "Epoch 31/50\n",
            "5/5 [==============================] - 6s 1s/step - loss: 0.6931 - accuracy: 0.5063 - val_loss: 0.6939 - val_accuracy: 0.4062\n",
            "\n",
            "Epoch 00031: val_accuracy did not improve from 0.68750\n",
            "Epoch 32/50\n",
            "5/5 [==============================] - 7s 1s/step - loss: 0.6931 - accuracy: 0.5125 - val_loss: 0.6934 - val_accuracy: 0.4688\n",
            "\n",
            "Epoch 00032: val_accuracy did not improve from 0.68750\n",
            "Epoch 33/50\n",
            "5/5 [==============================] - 6s 1s/step - loss: 0.6933 - accuracy: 0.4812 - val_loss: 0.6939 - val_accuracy: 0.4062\n",
            "\n",
            "Epoch 00033: val_accuracy did not improve from 0.68750\n",
            "Epoch 34/50\n",
            "5/5 [==============================] - 6s 1s/step - loss: 0.6933 - accuracy: 0.4812 - val_loss: 0.6927 - val_accuracy: 0.5625\n",
            "\n",
            "Epoch 00034: val_accuracy did not improve from 0.68750\n",
            "Epoch 35/50\n",
            "5/5 [==============================] - 6s 1s/step - loss: 0.6931 - accuracy: 0.5125 - val_loss: 0.6932 - val_accuracy: 0.5000\n",
            "\n",
            "Epoch 00035: val_accuracy did not improve from 0.68750\n",
            "Epoch 36/50\n",
            "5/5 [==============================] - 6s 1s/step - loss: 0.6931 - accuracy: 0.5063 - val_loss: 0.6938 - val_accuracy: 0.4062\n",
            "\n",
            "Epoch 00036: val_accuracy did not improve from 0.68750\n",
            "Epoch 37/50\n",
            "5/5 [==============================] - 6s 1s/step - loss: 0.6929 - accuracy: 0.5375 - val_loss: 0.6943 - val_accuracy: 0.3438\n",
            "\n",
            "Epoch 00037: val_accuracy did not improve from 0.68750\n",
            "Epoch 38/50\n",
            "5/5 [==============================] - 6s 1s/step - loss: 0.6933 - accuracy: 0.4750 - val_loss: 0.6944 - val_accuracy: 0.3125\n",
            "\n",
            "Epoch 00038: val_accuracy did not improve from 0.68750\n",
            "Epoch 00038: early stopping\n"
          ]
        }
      ]
    },
    {
      "cell_type": "code",
      "metadata": {
        "colab": {
          "base_uri": "https://localhost:8080/"
        },
        "id": "32kyThlK6KXX",
        "outputId": "1b6cebcb-c7a2-4d0e-a504-5324338c5ec3"
      },
      "source": [
        "hist.history.keys()"
      ],
      "execution_count": 23,
      "outputs": [
        {
          "output_type": "execute_result",
          "data": {
            "text/plain": [
              "dict_keys(['loss', 'accuracy', 'val_loss', 'val_accuracy'])"
            ]
          },
          "metadata": {},
          "execution_count": 23
        }
      ]
    },
    {
      "cell_type": "code",
      "metadata": {
        "colab": {
          "base_uri": "https://localhost:8080/",
          "height": 313
        },
        "id": "ZI69V1Zw6c6t",
        "outputId": "d6ee2eb9-c8ff-4030-c955-912495e29d2f"
      },
      "source": [
        "hist.history.keys()\n",
        "import matplotlib.pyplot as plt\n",
        "%matplotlib inline\n",
        "plt.plot(hist.history['loss'])\n",
        "plt.plot(hist.history['val_loss'])\n",
        "plt.legend(['Training','test'])\n",
        "plt.title('Training and Validation losses')\n",
        "plt.xlabel('epoch')"
      ],
      "execution_count": 24,
      "outputs": [
        {
          "output_type": "execute_result",
          "data": {
            "text/plain": [
              "Text(0.5, 0, 'epoch')"
            ]
          },
          "metadata": {},
          "execution_count": 24
        },
        {
          "output_type": "display_data",
          "data": {
            "image/png": "[encoded data removed]",
            "text/plain": [
              "<Figure size 432x288 with 1 Axes>"
            ]
          },
          "metadata": {
            "needs_background": "light"
          }
        }
      ]
    }
  ]
}
